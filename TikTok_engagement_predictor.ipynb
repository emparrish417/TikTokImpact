{
 "cells": [
  {
   "cell_type": "code",
   "execution_count": 2,
   "id": "cbcbd9f2",
   "metadata": {},
   "outputs": [],
   "source": [
    "def process_results(data):\n",
    "    nested_values = ['video', 'author', 'music', 'stats', 'authorStats', 'challenges', 'duetInfo', 'textExtra', 'stickersOnItem']\n",
    "    skip_values = ['challenges', 'duetInfo', 'textExtra', 'stickersOnItem']\n",
    "\n",
    "    # Create blank dictionary\n",
    "    flattened_data = {}\n",
    "    # Loop through each video\n",
    "    for idx, value in enumerate(data): \n",
    "\n",
    "        flattened_data[idx] = {}\n",
    "        # Loop through each property in each video \n",
    "        for prop_idx, prop_value in value.items():\n",
    "            # Check if nested\n",
    "            if prop_idx in nested_values:\n",
    "                if prop_idx in skip_values:\n",
    "                    pass\n",
    "                else:\n",
    "                    # Loop through each nested property\n",
    "                    for nested_idx, nested_value in prop_value.items():\n",
    "                        flattened_data[idx][prop_idx+'_'+nested_idx] = nested_value\n",
    "            # If it's not nested, add it back to the flattened dictionary\n",
    "            else: \n",
    "                flattened_data[idx][prop_idx] = prop_value\n",
    "\n",
    "    return flattened_data"
   ]
  },
  {
   "cell_type": "code",
   "execution_count": 3,
   "id": "18a3187f",
   "metadata": {
    "scrolled": true
   },
   "outputs": [
    {
     "name": "stdout",
     "output_type": "stream",
     "text": [
      "(20401, 76)\n",
      "Index(['id', 'desc', 'createTime', 'video_id', 'video_height', 'video_width',\n",
      "       'video_duration', 'video_ratio', 'video_cover', 'video_originCover',\n",
      "       'video_dynamicCover', 'video_playAddr', 'video_downloadAddr',\n",
      "       'video_shareCover', 'video_reflowCover', 'video_bitrate',\n",
      "       'video_encodedType', 'video_format', 'video_videoQuality',\n",
      "       'video_encodeUserTag', 'author_id', 'author_uniqueId',\n",
      "       'author_nickname', 'author_avatarThumb', 'author_avatarMedium',\n",
      "       'author_avatarLarger', 'author_signature', 'author_verified',\n",
      "       'author_secUid', 'author_secret', 'author_ftc', 'author_relation',\n",
      "       'author_openFavorite', 'author_commentSetting', 'author_duetSetting',\n",
      "       'author_stitchSetting', 'author_privateAccount', 'music_id',\n",
      "       'music_title', 'music_playUrl', 'music_coverThumb', 'music_coverMedium',\n",
      "       'music_coverLarge', 'music_authorName', 'music_original',\n",
      "       'music_duration', 'music_album', 'stats_diggCount', 'stats_shareCount',\n",
      "       'stats_commentCount', 'stats_playCount', 'originalItem', 'officalItem',\n",
      "       'secret', 'forFriend', 'digged', 'itemCommentStatus', 'showNotPass',\n",
      "       'vl1', 'itemMute', 'authorStats_followingCount',\n",
      "       'authorStats_followerCount', 'authorStats_heartCount',\n",
      "       'authorStats_videoCount', 'authorStats_diggCount', 'authorStats_heart',\n",
      "       'privateItem', 'duetEnabled', 'stitchEnabled', 'shareEnabled', 'isAd',\n",
      "       'scrape_date', 'maskType', 'effectStickers', 'author_roomId',\n",
      "       'warnInfo'],\n",
      "      dtype='object')\n"
     ]
    }
   ],
   "source": [
    "from datetime import datetime\n",
    "import os\n",
    "import pandas as pd\n",
    "import json\n",
    "\n",
    "src_path = 'TikTok_scrape/output/'\n",
    "\n",
    "count = 0\n",
    "master_data = []\n",
    "\n",
    "for root, dirs, files in os.walk(src_path):\n",
    "\n",
    "    for filename in files:\n",
    "        if \"OrigSearch\" in filename:\n",
    "            # Load up data \n",
    "            with open(os.path.join(root, filename), 'r') as f:\n",
    "                data = json.load(f)\n",
    "                date = root.split(\"/\")[2].replace(\"_fresh\",\"\")\n",
    "                \n",
    "                #data[\"scrape_date\"] = datetime.strptime(date, '%d%m%Y')\n",
    "                data[\"scrape_date\"] = datetime.strptime(date, '%d%m%Y')\n",
    "      \n",
    "                master_data.append(data)\n",
    "                \n",
    "            f.close()\n",
    "            \n",
    "        count += 1\n",
    "\n",
    "\n",
    "data_flat = process_results(master_data)\n",
    "df = pd.DataFrame.from_dict(data_flat, orient='index')\n",
    "\n",
    "df['convTime'] = df['createTime'].apply(datetime.fromtimestamp)\n",
    "df['daysFromPost'] = df.scrape_date - df.convTime\n",
    "df['scaledLikes'] = df.stats_diggCount/df.authorStats_heartCount\n",
    "\n",
    "print(df.shape)\n",
    "print(df.columns)\n",
    "\n",
    "video_sub = df[['duetEnabled', 'stitchEnabled', 'shareEnabled', 'isAd', 'stats_shareCount',\n",
    "       'stats_commentCount', 'stats_playCount', 'music_original', 'daysFromPost']]\n",
    "author_sub = df[['authorStats_diggCount', 'authorStats_followingCount',\n",
    "       'authorStats_followerCount', 'authorStats_heartCount',\n",
    "       'authorStats_videoCount']]\n",
    "\n",
    "all_sub = df[['authorStats_diggCount', 'authorStats_followingCount',\n",
    "       'authorStats_followerCount', 'authorStats_heartCount',\n",
    "       'authorStats_videoCount','duetEnabled', 'stitchEnabled', 'shareEnabled', 'isAd', 'stats_shareCount',\n",
    "       'stats_commentCount', 'stats_playCount', 'music_original', 'daysFromPost']]\n",
    "all_sub = all_sub.astype(int)\n",
    "\n",
    "y = df[['stats_diggCount']]"
   ]
  },
  {
   "cell_type": "code",
   "execution_count": 61,
   "id": "b98b142a",
   "metadata": {},
   "outputs": [],
   "source": [
    "from sklearn.preprocessing import StandardScaler\n",
    "import numpy as np\n",
    "\n",
    "# Sklearn\n",
    "from sklearn.linear_model import LinearRegression # for building a linear regression model\n",
    "from sklearn.svm import SVR # for building SVR model\n",
    "from sklearn.preprocessing import MinMaxScaler\n",
    "from sklearn.model_selection import train_test_split\n",
    "from sklearn.model_selection import KFold\n",
    "from sklearn.metrics import mean_squared_error\n",
    "\n",
    "# Visualizations\n",
    "import plotly.graph_objects as go # for data visualization\n",
    "import plotly.express as px # for data visualization"
   ]
  },
  {
   "cell_type": "code",
   "execution_count": 75,
   "id": "f39f308a",
   "metadata": {},
   "outputs": [
    {
     "name": "stdout",
     "output_type": "stream",
     "text": [
      "(9931, 13)\n",
      "(9931, 1)\n"
     ]
    }
   ],
   "source": [
    "X = all_sub\n",
    "print(X.shape)\n",
    "print(y.shape)"
   ]
  },
  {
   "cell_type": "code",
   "execution_count": 76,
   "id": "dc108bb9",
   "metadata": {},
   "outputs": [],
   "source": [
    "sc_X = StandardScaler()\n",
    "sc_y = StandardScaler()\n",
    "X = sc_X.fit_transform(X)\n",
    "y = sc_y.fit_transform(y)"
   ]
  },
  {
   "cell_type": "code",
   "execution_count": null,
   "id": "5afc148a",
   "metadata": {},
   "outputs": [],
   "source": [
    "kf = KFold(n_splits=2)\n",
    "kf.get_n_splits(X)"
   ]
  },
  {
   "cell_type": "code",
   "execution_count": 78,
   "id": "9f3b299f",
   "metadata": {},
   "outputs": [
    {
     "name": "stdout",
     "output_type": "stream",
     "text": [
      "0.7842665887830752\n",
      "0.20868362475392585\n",
      "-18.436978537170987\n",
      "18.80181244305511\n"
     ]
    },
    {
     "name": "stderr",
     "output_type": "stream",
     "text": [
      "/opt/anaconda3/lib/python3.8/site-packages/sklearn/utils/validation.py:985: DataConversionWarning: A column-vector y was passed when a 1d array was expected. Please change the shape of y to (n_samples, ), for example using ravel().\n",
      "  y = column_or_1d(y, warn=True)\n"
     ]
    }
   ],
   "source": [
    "X_train, X_test, y_train, y_test = train_test_split(X, y, test_size=0.30, random_state=42)\n",
    "\n",
    "# ------- Linear regression -------\n",
    "model1 = LinearRegression()\n",
    "lr = model1.fit(X_train, y_train)\n",
    "\n",
    "# ------- Support Vector regression -------\n",
    "model2 = SVR(kernel='rbf', C=1000, epsilon=5) # set kernel and hyperparameters\n",
    "svr = model2.fit(X_train, y_train)\n",
    "\n",
    "# # ------- Predict a range of values based on the models for visualization -------\n",
    "# # Create 100 evenly spaced points from smallest X to largest X\n",
    "# x_range = np.linspace(X.min(), X.max(), 100)\n",
    "\n",
    "# # Predict y values for our set of X values\n",
    "y_lr = model1.predict(X_test) # Linear regression\n",
    "y_svr = model2.predict(X_test) # SVR\n",
    "\n",
    "print(model1.score(X_test, y_test))\n",
    "print(mean_squared_error(y_test, y_lr))\n",
    "print(model2.score(X_test, y_test))\n",
    "print(mean_squared_error(y_test, y_svr))"
   ]
  },
  {
   "cell_type": "code",
   "execution_count": null,
   "id": "73dec5b6",
   "metadata": {},
   "outputs": [],
   "source": []
  }
 ],
 "metadata": {
  "kernelspec": {
   "display_name": "Python 3",
   "language": "python",
   "name": "python3"
  },
  "language_info": {
   "codemirror_mode": {
    "name": "ipython",
    "version": 3
   },
   "file_extension": ".py",
   "mimetype": "text/x-python",
   "name": "python",
   "nbconvert_exporter": "python",
   "pygments_lexer": "ipython3",
   "version": "3.8.8"
  }
 },
 "nbformat": 4,
 "nbformat_minor": 5
}
