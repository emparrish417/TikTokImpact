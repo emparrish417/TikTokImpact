{
 "cells": [
  {
   "cell_type": "code",
   "execution_count": 1,
   "id": "725b100d",
   "metadata": {},
   "outputs": [],
   "source": [
    "# Import pandas \n",
    "import pandas as pd\n",
    "import os\n",
    "import json"
   ]
  },
  {
   "cell_type": "code",
   "execution_count": 2,
   "id": "23da8bbd",
   "metadata": {},
   "outputs": [],
   "source": [
    "def process_results(data):\n",
    "    nested_values = ['video', 'author', 'music', 'stats', 'authorStats', 'challenges', 'duetInfo', 'textExtra', 'stickersOnItem']\n",
    "    skip_values = ['challenges', 'duetInfo', 'textExtra', 'stickersOnItem']\n",
    "\n",
    "    # Create blank dictionary\n",
    "    flattened_data = {}\n",
    "    # Loop through each video\n",
    "    for idx, value in enumerate(data): \n",
    "\n",
    "        flattened_data[idx] = {}\n",
    "        # Loop through each property in each video \n",
    "        for prop_idx, prop_value in value.items():\n",
    "            # Check if nested\n",
    "            if prop_idx in nested_values:\n",
    "                if prop_idx in skip_values:\n",
    "                    pass\n",
    "                else:\n",
    "                    # Loop through each nested property\n",
    "                    for nested_idx, nested_value in prop_value.items():\n",
    "                        flattened_data[idx][prop_idx+'_'+nested_idx] = nested_value\n",
    "            # If it's not nested, add it back to the flattened dictionary\n",
    "            else: \n",
    "                flattened_data[idx][prop_idx] = prop_value\n",
    "\n",
    "    return flattened_data"
   ]
  },
  {
   "cell_type": "code",
   "execution_count": 3,
   "id": "93d59105",
   "metadata": {},
   "outputs": [
    {
     "name": "stdout",
     "output_type": "stream",
     "text": [
      "                    id                                               desc  \\\n",
      "0  7069787462242962694                                   #ukraine #russia   \n",
      "1  7082556143888878890       #ukraine #ukrainevsrussia #ukrainewar #bucha   \n",
      "2  7068388771854634245  I wish this is a bad dream and we will wake up...   \n",
      "3  7082576425911323946                         its exciting every timeeee   \n",
      "4  7071700963953741062        🇺🇦🤝 🇷🇺 #ukraine #supportukraine #fyp #nowar   \n",
      "\n",
      "   createTime             video_id  video_height  video_width  video_duration  \\\n",
      "0  1646063166  7069787462242962694          1024          576              20   \n",
      "1  1649036106  7082556143888878890          1024          576             104   \n",
      "2  1645737509  7068388771854634245          1024          576               9   \n",
      "3  1649040828  7082576425911323946          1024          576              15   \n",
      "4  1646508688  7071700963953741062          1024          576              42   \n",
      "\n",
      "  video_ratio                                        video_cover  \\\n",
      "0        720p  https://p16-sign-va.tiktokcdn.com/obj/tos-mali...   \n",
      "1        720p  https://p19-sign.tiktokcdn-us.com/obj/tos-usea...   \n",
      "2        720p  https://p16-sign-va.tiktokcdn.com/obj/tos-mali...   \n",
      "3        720p  https://p19-sign.tiktokcdn-us.com/obj/tos-usea...   \n",
      "4        720p  https://p16-sign-va.tiktokcdn.com/obj/tos-mali...   \n",
      "\n",
      "                                   video_originCover  ... privateItem  \\\n",
      "0  https://p16-sign-va.tiktokcdn.com/obj/tos-mali...  ...       False   \n",
      "1  https://p19-sign.tiktokcdn-us.com/obj/tos-usea...  ...       False   \n",
      "2  https://p16-sign-va.tiktokcdn.com/obj/tos-mali...  ...       False   \n",
      "3  https://p16-sign.tiktokcdn-us.com/obj/tos-usea...  ...       False   \n",
      "4  https://p16-sign-va.tiktokcdn.com/obj/tos-mali...  ...       False   \n",
      "\n",
      "  duetEnabled stitchEnabled shareEnabled   isAd  scrape_date maskType  \\\n",
      "0        True          True         True  False   2022-04-04      NaN   \n",
      "1       False         False         True  False   2022-04-04      3.0   \n",
      "2        True          True         True  False   2022-04-04      NaN   \n",
      "3        True          True         True  False   2022-04-04      NaN   \n",
      "4        True          True         True  False   2022-04-04      NaN   \n",
      "\n",
      "  effectStickers author_roomId warnInfo  \n",
      "0            NaN           NaN      NaN  \n",
      "1            NaN           NaN      NaN  \n",
      "2            NaN           NaN      NaN  \n",
      "3            NaN           NaN      NaN  \n",
      "4            NaN           NaN      NaN  \n",
      "\n",
      "[5 rows x 76 columns]\n",
      "Index(['id', 'desc', 'createTime', 'video_id', 'video_height', 'video_width',\n",
      "       'video_duration', 'video_ratio', 'video_cover', 'video_originCover',\n",
      "       'video_dynamicCover', 'video_playAddr', 'video_downloadAddr',\n",
      "       'video_shareCover', 'video_reflowCover', 'video_bitrate',\n",
      "       'video_encodedType', 'video_format', 'video_videoQuality',\n",
      "       'video_encodeUserTag', 'author_id', 'author_uniqueId',\n",
      "       'author_nickname', 'author_avatarThumb', 'author_avatarMedium',\n",
      "       'author_avatarLarger', 'author_signature', 'author_verified',\n",
      "       'author_secUid', 'author_secret', 'author_ftc', 'author_relation',\n",
      "       'author_openFavorite', 'author_commentSetting', 'author_duetSetting',\n",
      "       'author_stitchSetting', 'author_privateAccount', 'music_id',\n",
      "       'music_title', 'music_playUrl', 'music_coverThumb', 'music_coverMedium',\n",
      "       'music_coverLarge', 'music_authorName', 'music_original',\n",
      "       'music_duration', 'music_album', 'stats_diggCount', 'stats_shareCount',\n",
      "       'stats_commentCount', 'stats_playCount', 'originalItem', 'officalItem',\n",
      "       'secret', 'forFriend', 'digged', 'itemCommentStatus', 'showNotPass',\n",
      "       'vl1', 'itemMute', 'authorStats_followingCount',\n",
      "       'authorStats_followerCount', 'authorStats_heartCount',\n",
      "       'authorStats_videoCount', 'authorStats_diggCount', 'authorStats_heart',\n",
      "       'privateItem', 'duetEnabled', 'stitchEnabled', 'shareEnabled', 'isAd',\n",
      "       'scrape_date', 'maskType', 'effectStickers', 'author_roomId',\n",
      "       'warnInfo'],\n",
      "      dtype='object')\n"
     ]
    }
   ],
   "source": [
    "from datetime import datetime\n",
    "\n",
    "src_path = 'TikTok_scrape/output/'\n",
    "\n",
    "count = 0\n",
    "master_data = []\n",
    "\n",
    "for root, dirs, files in os.walk(src_path):\n",
    "\n",
    "    for filename in files:\n",
    "        if \"OrigSearch\" in filename:\n",
    "            # Load up data \n",
    "            with open(os.path.join(root, filename), 'r') as f:\n",
    "                data = json.load(f)\n",
    "                date = root.split(\"/\")[2].replace(\"_fresh\",\"\")\n",
    "                \n",
    "                data[\"scrape_date\"] = datetime.strptime(date, '%d%m%Y')\n",
    "      \n",
    "                master_data.append(data)\n",
    "                \n",
    "            f.close()\n",
    "            \n",
    "        count += 1\n",
    "\n",
    "\n",
    "data_flat = process_results(master_data)\n",
    "df = pd.DataFrame.from_dict(data_flat, orient='index')\n",
    "\n",
    "print(df.head())\n",
    "print(df.columns)"
   ]
  },
  {
   "cell_type": "code",
   "execution_count": 4,
   "id": "8b6d678e",
   "metadata": {},
   "outputs": [],
   "source": [
    "groupdf = df.groupby(['scrape_date']).mean()\n",
    "import seaborn as sns\n",
    "from matplotlib import pyplot as plt\n",
    "%matplotlib inline"
   ]
  },
  {
   "cell_type": "code",
   "execution_count": 8,
   "id": "073aa10c",
   "metadata": {},
   "outputs": [
    {
     "name": "stderr",
     "output_type": "stream",
     "text": [
      "<ipython-input-8-19b0a1ec55e3>:8: UserWarning: FixedFormatter should only be used together with FixedLocator\n",
      "  ax.set_xticklabels(ax.get_xticklabels(),rotation = 30)\n"
     ]
    },
    {
     "ename": "AttributeError",
     "evalue": "'_iLocIndexer' object has no attribute 'index'",
     "output_type": "error",
     "traceback": [
      "\u001b[0;31m---------------------------------------------------------------------------\u001b[0m",
      "\u001b[0;31mAttributeError\u001b[0m                            Traceback (most recent call last)",
      "\u001b[0;32m<ipython-input-8-19b0a1ec55e3>\u001b[0m in \u001b[0;36m<module>\u001b[0;34m\u001b[0m\n\u001b[1;32m      9\u001b[0m \u001b[0;34m\u001b[0m\u001b[0m\n\u001b[1;32m     10\u001b[0m \u001b[0;31m# # Bulbasaur\u001b[0m\u001b[0;34m\u001b[0m\u001b[0;34m\u001b[0m\u001b[0;34m\u001b[0m\u001b[0m\n\u001b[0;32m---> 11\u001b[0;31m \u001b[0msns\u001b[0m\u001b[0;34m.\u001b[0m\u001b[0mbarplot\u001b[0m\u001b[0;34m(\u001b[0m\u001b[0mx\u001b[0m\u001b[0;34m=\u001b[0m\u001b[0mfreq_df\u001b[0m\u001b[0;34m.\u001b[0m\u001b[0mindex\u001b[0m\u001b[0;34m,\u001b[0m \u001b[0my\u001b[0m\u001b[0;34m=\u001b[0m\u001b[0mfreq_df\u001b[0m\u001b[0;34m[\u001b[0m\u001b[0;34m\"music_title\"\u001b[0m\u001b[0;34m]\u001b[0m\u001b[0;34m)\u001b[0m\u001b[0;34m\u001b[0m\u001b[0;34m\u001b[0m\u001b[0m\n\u001b[0m",
      "\u001b[0;31mAttributeError\u001b[0m: '_iLocIndexer' object has no attribute 'index'"
     ]
    },
    {
     "data": {
      "image/png": "[encoded data removed]",
      "text/plain": [
       "<Figure size 576x360 with 1 Axes>"
      ]
     },
     "metadata": {},
     "output_type": "display_data"
    }
   ],
   "source": [
    "#sns.lineplot(ax=axes[0], x=groupdf.index, y=groupdf['stats_playCount'])\n",
    "\n",
    "freq_df = pd.DataFrame(df[\"music_title\"].value_counts()).head(15).iloc()\n",
    "\n",
    "sns.set_theme()\n",
    "fig, ax = plt.subplots(1, 1, figsize=(8, 5), sharey=True)\n",
    "fig.suptitle('Video Shares')\n",
    "ax.set_xticklabels(ax.get_xticklabels(),rotation = 30)\n",
    "\n",
    "# # Bulbasaur\n",
    "sns.barplot(x=freq_df.index, y=freq_df[\"music_title\"])"
   ]
  },
  {
   "cell_type": "code",
   "execution_count": 11,
   "id": "c927dee5",
   "metadata": {},
   "outputs": [
    {
     "data": {
      "text/plain": [
       "(array([19060., 19064., 19068., 19072., 19076., 19080., 19083., 19087.,\n",
       "        19091.]),\n",
       " [Text(0, 0, ''),\n",
       "  Text(0, 0, ''),\n",
       "  Text(0, 0, ''),\n",
       "  Text(0, 0, ''),\n",
       "  Text(0, 0, ''),\n",
       "  Text(0, 0, ''),\n",
       "  Text(0, 0, ''),\n",
       "  Text(0, 0, ''),\n",
       "  Text(0, 0, '')])"
      ]
     },
     "execution_count": 11,
     "metadata": {},
     "output_type": "execute_result"
    },
    {
     "data": {
      "image/png": "[encoded data removed]",
      "text/plain": [
       "<Figure size 576x360 with 1 Axes>"
      ]
     },
     "metadata": {},
     "output_type": "display_data"
    }
   ],
   "source": [
    "#sns.lineplot(ax=axes[0], x=groupdf.index, y=groupdf['stats_playCount'])\n",
    "sns.set_context(\"poster\", font_scale = .5, rc={\"grid.linewidth\": 0.6})\n",
    "sns.set_theme()\n",
    "fig, ax = plt.subplots(1, 1, figsize=(8, 5), sharey=True)\n",
    "fig.suptitle('Video Shares')\n",
    "\n",
    "# Bulbasaur\n",
    "sns.lineplot(ax=ax, x=groupdf.index, y=groupdf['stats_diggCount'], color=\"red\")\n",
    "#axes[0].set_title(bulbasaur.name)\n",
    "ax.set(xlabel='Date', ylabel='Average Video Shares each Day')\n",
    "plt.xticks(rotation=45)"
   ]
  },
  {
   "cell_type": "code",
   "execution_count": 7,
   "id": "1238c05d",
   "metadata": {},
   "outputs": [
    {
     "name": "stdout",
     "output_type": "stream",
     "text": [
      "Requirement already satisfied: wordcloud in /opt/anaconda3/lib/python3.8/site-packages (1.8.1)\r\n",
      "Requirement already satisfied: pillow in /opt/anaconda3/lib/python3.8/site-packages (from wordcloud) (8.2.0)\r\n",
      "Requirement already satisfied: matplotlib in /opt/anaconda3/lib/python3.8/site-packages (from wordcloud) (3.3.4)\r\n",
      "Requirement already satisfied: numpy>=1.6.1 in /opt/anaconda3/lib/python3.8/site-packages (from wordcloud) (1.20.1)\r\n",
      "Requirement already satisfied: kiwisolver>=1.0.1 in /opt/anaconda3/lib/python3.8/site-packages (from matplotlib->wordcloud) (1.3.1)\r\n",
      "Requirement already satisfied: pyparsing!=2.0.4,!=2.1.2,!=2.1.6,>=2.0.3 in /opt/anaconda3/lib/python3.8/site-packages (from matplotlib->wordcloud) (2.4.7)\r\n",
      "Requirement already satisfied: python-dateutil>=2.1 in /opt/anaconda3/lib/python3.8/site-packages (from matplotlib->wordcloud) (2.8.1)\r\n",
      "Requirement already satisfied: cycler>=0.10 in /opt/anaconda3/lib/python3.8/site-packages (from matplotlib->wordcloud) (0.10.0)\r\n",
      "Requirement already satisfied: six in /opt/anaconda3/lib/python3.8/site-packages (from cycler>=0.10->matplotlib->wordcloud) (1.15.0)\r\n"
     ]
    }
   ],
   "source": [
    "import sys\n",
    "!{sys.executable} -m pip install wordcloud"
   ]
  },
  {
   "cell_type": "code",
   "execution_count": 9,
   "id": "0da9808c",
   "metadata": {},
   "outputs": [
    {
     "name": "stdout",
     "output_type": "stream",
     "text": [
      "Using matplotlib backend: MacOSX\n"
     ]
    }
   ],
   "source": [
    "import matplotlib.pyplot as plt\n",
    "from wordcloud import WordCloud, STOPWORDS\n",
    "import re\n",
    "%matplotlib"
   ]
  },
  {
   "cell_type": "code",
   "execution_count": 10,
   "id": "3fe7ebe0",
   "metadata": {},
   "outputs": [],
   "source": [
    "\n",
    "stopwords = set(STOPWORDS) \n",
    "comment_words = ' '\n",
    "\n",
    "for val in df.desc:\n",
    "\n",
    "   # typecaste each val to string \n",
    "    val = str(val) \n",
    "\n",
    "   # split the value \n",
    "    tokens = val.split(\" \") \n",
    "\n",
    "    # Converts each token into lowercase \n",
    "    for i in range(len(tokens)): \n",
    "        tokens[i] = tokens[i].lower() \n",
    "        \n",
    "        tokens[i] = re.sub(r'\\W+', '', tokens[i])\n",
    "\n",
    "    for words in tokens: \n",
    "        comment_words = comment_words + words + ' '\n",
    "\n",
    "wordcloud = WordCloud(\n",
    "            background_color ='white', \n",
    "            stopwords = [\"russia\", \"ukraine\", \"fyp\", \"foryou\", \"foryoupage\"] + list(STOPWORDS), \n",
    "            min_font_size = 10, collocations=False).generate(comment_words) \n",
    "\n",
    "#print(wordcloud.words_)\n",
    "\n",
    "# plot the WordCloud image                        \n",
    "plt.figure(figsize = (8, 8), facecolor = None) \n",
    "plt.imshow(wordcloud, interpolation='bilinear')\n",
    "plt.axis(\"off\") \n",
    "plt.tight_layout(pad = 0) \n",
    "\n",
    "#plt.show() "
   ]
  },
  {
   "cell_type": "code",
   "execution_count": null,
   "id": "e3202922",
   "metadata": {},
   "outputs": [],
   "source": []
  }
 ],
 "metadata": {
  "kernelspec": {
   "display_name": "Python 3",
   "language": "python",
   "name": "python3"
  },
  "language_info": {
   "codemirror_mode": {
    "name": "ipython",
    "version": 3
   },
   "file_extension": ".py",
   "mimetype": "text/x-python",
   "name": "python",
   "nbconvert_exporter": "python",
   "pygments_lexer": "ipython3",
   "version": "3.8.8"
  }
 },
 "nbformat": 4,
 "nbformat_minor": 5
}
